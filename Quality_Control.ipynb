{
  "nbformat": 4,
  "nbformat_minor": 0,
  "metadata": {
    "colab": {
      "provenance": []
    },
    "kernelspec": {
      "name": "python3",
      "display_name": "Python 3"
    },
    "language_info": {
      "name": "python"
    }
  },
  "cells": [
    {
      "cell_type": "code",
      "execution_count": 1,
      "metadata": {
        "id": "vTszzc0Rgt2q",
        "colab": {
          "base_uri": "https://localhost:8080/"
        },
        "outputId": "2e030c75-5472-4aec-dc14-04db3b4457b4"
      },
      "outputs": [
        {
          "output_type": "stream",
          "name": "stdout",
          "text": [
            "Collecting shap\n",
            "  Downloading shap-0.46.0-cp310-cp310-manylinux_2_12_x86_64.manylinux2010_x86_64.manylinux_2_17_x86_64.manylinux2014_x86_64.whl.metadata (24 kB)\n",
            "Requirement already satisfied: numpy in /usr/local/lib/python3.10/dist-packages (from shap) (1.26.4)\n",
            "Requirement already satisfied: scipy in /usr/local/lib/python3.10/dist-packages (from shap) (1.13.1)\n",
            "Requirement already satisfied: scikit-learn in /usr/local/lib/python3.10/dist-packages (from shap) (1.3.2)\n",
            "Requirement already satisfied: pandas in /usr/local/lib/python3.10/dist-packages (from shap) (2.1.4)\n",
            "Requirement already satisfied: tqdm>=4.27.0 in /usr/local/lib/python3.10/dist-packages (from shap) (4.66.5)\n",
            "Requirement already satisfied: packaging>20.9 in /usr/local/lib/python3.10/dist-packages (from shap) (24.1)\n",
            "Collecting slicer==0.0.8 (from shap)\n",
            "  Downloading slicer-0.0.8-py3-none-any.whl.metadata (4.0 kB)\n",
            "Requirement already satisfied: numba in /usr/local/lib/python3.10/dist-packages (from shap) (0.60.0)\n",
            "Requirement already satisfied: cloudpickle in /usr/local/lib/python3.10/dist-packages (from shap) (2.2.1)\n",
            "Requirement already satisfied: llvmlite<0.44,>=0.43.0dev0 in /usr/local/lib/python3.10/dist-packages (from numba->shap) (0.43.0)\n",
            "Requirement already satisfied: python-dateutil>=2.8.2 in /usr/local/lib/python3.10/dist-packages (from pandas->shap) (2.8.2)\n",
            "Requirement already satisfied: pytz>=2020.1 in /usr/local/lib/python3.10/dist-packages (from pandas->shap) (2024.1)\n",
            "Requirement already satisfied: tzdata>=2022.1 in /usr/local/lib/python3.10/dist-packages (from pandas->shap) (2024.1)\n",
            "Requirement already satisfied: joblib>=1.1.1 in /usr/local/lib/python3.10/dist-packages (from scikit-learn->shap) (1.4.2)\n",
            "Requirement already satisfied: threadpoolctl>=2.0.0 in /usr/local/lib/python3.10/dist-packages (from scikit-learn->shap) (3.5.0)\n",
            "Requirement already satisfied: six>=1.5 in /usr/local/lib/python3.10/dist-packages (from python-dateutil>=2.8.2->pandas->shap) (1.16.0)\n",
            "Downloading shap-0.46.0-cp310-cp310-manylinux_2_12_x86_64.manylinux2010_x86_64.manylinux_2_17_x86_64.manylinux2014_x86_64.whl (540 kB)\n",
            "\u001b[2K   \u001b[90m━━━━━━━━━━━━━━━━━━━━━━━━━━━━━━━━━━━━━━━━\u001b[0m \u001b[32m540.1/540.1 kB\u001b[0m \u001b[31m10.4 MB/s\u001b[0m eta \u001b[36m0:00:00\u001b[0m\n",
            "\u001b[?25hDownloading slicer-0.0.8-py3-none-any.whl (15 kB)\n",
            "Installing collected packages: slicer, shap\n",
            "Successfully installed shap-0.46.0 slicer-0.0.8\n"
          ]
        }
      ],
      "source": [
        "#Importing all the req lib\n",
        "!pip install shap\n",
        "import pandas as pd\n",
        "import numpy as np\n",
        "from sklearn.model_selection import train_test_split, cross_val_score, RandomizedSearchCV\n",
        "from sklearn.ensemble import RandomForestClassifier, GradientBoostingClassifier, VotingClassifier\n",
        "from sklearn.metrics import classification_report, confusion_matrix, accuracy_score, roc_auc_score, f1_score, precision_recall_curve\n",
        "from sklearn.preprocessing import StandardScaler, OneHotEncoder\n",
        "from sklearn.compose import ColumnTransformer\n",
        "from sklearn.pipeline import Pipeline\n",
        "from sklearn.impute import SimpleImputer\n",
        "from sklearn.feature_selection import RFECV\n",
        "from imblearn.over_sampling import SMOTE\n",
        "from imblearn.pipeline import Pipeline as ImbPipeline\n",
        "import shap\n",
        "import matplotlib.pyplot as plt\n",
        "import seaborn as sns\n",
        "from sklearn.covariance import EllipticEnvelope\n",
        "from sklearn.svm import OneClassSVM\n",
        "from sklearn.ensemble import IsolationForest\n",
        "import time"
      ]
    },
    {
      "cell_type": "code",
      "source": [
        "# Load data\n",
        "data = pd.read_csv('/content/ai4i2020.csv')"
      ],
      "metadata": {
        "id": "DaDrXFMBg7RW"
      },
      "execution_count": 3,
      "outputs": []
    },
    {
      "cell_type": "code",
      "source": [
        "# Preprocessing the data\n",
        "data['Type'] = data['Type'].astype('category').cat.codes"
      ],
      "metadata": {
        "id": "gM6PPzuwg-l-"
      },
      "execution_count": 4,
      "outputs": []
    },
    {
      "cell_type": "code",
      "source": [
        "# Define features and target\n",
        "X = data.drop(['UDI', 'Product ID', 'Machine failure'], axis=1)\n",
        "y = data['Machine failure']"
      ],
      "metadata": {
        "id": "qJS_-_bLhA0v"
      },
      "execution_count": 5,
      "outputs": []
    },
    {
      "cell_type": "code",
      "source": [
        "# Split the dataset\n",
        "X_train, X_test, y_train, y_test = train_test_split(X, y, test_size=0.3, random_state=42, stratify=y)"
      ],
      "metadata": {
        "id": "0cG_kfs73ZS9"
      },
      "execution_count": 6,
      "outputs": []
    },
    {
      "cell_type": "code",
      "source": [
        "# Preprocessing steps\n",
        "numeric_features = X.select_dtypes(include=['int64', 'float64']).columns\n",
        "categorical_features = X.select_dtypes(include=['object', 'category']).columns\n",
        "\n",
        "numeric_transformer = Pipeline(steps=[\n",
        "    ('imputer', SimpleImputer(strategy='median')),\n",
        "    ('scaler', StandardScaler())\n",
        "])\n",
        "\n",
        "categorical_transformer = Pipeline(steps=[\n",
        "    ('imputer', SimpleImputer(strategy='constant', fill_value='missing')),\n",
        "    ('onehot', OneHotEncoder(handle_unknown='ignore'))\n",
        "])\n",
        "\n",
        "preprocessor = ColumnTransformer(\n",
        "    transformers=[\n",
        "        ('num', numeric_transformer, numeric_features),\n",
        "        ('cat', categorical_transformer, categorical_features)\n",
        "    ])"
      ],
      "metadata": {
        "id": "mjW7pmIQhDey"
      },
      "execution_count": 7,
      "outputs": []
    },
    {
      "cell_type": "code",
      "source": [
        "# Define model pipeline\n",
        "rf_model = RandomForestClassifier(random_state=42, class_weight='balanced')\n",
        "\n",
        "model_pipeline = ImbPipeline([\n",
        "    ('preprocessor', preprocessor),\n",
        "    ('smote', SMOTE(random_state=42)),\n",
        "    ('feature_selection', RFECV(estimator=rf_model, step=1, cv=5)),\n",
        "    ('classifier', rf_model)\n",
        "])"
      ],
      "metadata": {
        "id": "9M2_7iQlhFzy"
      },
      "execution_count": 8,
      "outputs": []
    },
    {
      "cell_type": "code",
      "source": [
        "# Hyperparameter tuning\n",
        "pparam_dist = {\n",
        "    'classifier__n_estimators': [100, 200],\n",
        "    'classifier__max_depth': [10, 20],\n",
        "    'classifier__min_samples_split': [2, 5],\n",
        "    'classifier__min_samples_leaf': [1, 2]\n",
        "}\n",
        "\n",
        "# Reduced number of iterations\n",
        "random_search = RandomizedSearchCV(\n",
        "    model_pipeline,\n",
        "    param_distributions=pparam_dist,\n",
        "    n_iter=10,  # Reduced number of iterations\n",
        "    cv=3,       # Reduced number of folds\n",
        "    random_state=42,\n",
        "    n_jobs=-1\n",
        ")\n",
        "\n",
        "# Fit the model\n",
        "random_search.fit(X_train, y_train)\n",
        "\n",
        "# Best model\n",
        "best_model = random_search.best_estimator_"
      ],
      "metadata": {
        "id": "tv5xeNjyhIge",
        "collapsed": true
      },
      "execution_count": 9,
      "outputs": []
    },
    {
      "cell_type": "code",
      "source": [
        "# Make predictions\n",
        "y_pred = best_model.predict(X_test)\n",
        "y_pred_proba = best_model.predict_proba(X_test)[:, 1]"
      ],
      "metadata": {
        "id": "vJYD5P12hpQt"
      },
      "execution_count": 10,
      "outputs": []
    },
    {
      "cell_type": "code",
      "source": [
        "# Evaluate the model\n",
        "accuracy = accuracy_score(y_test, y_pred)\n",
        "auc = roc_auc_score(y_test, y_pred_proba)\n",
        "f1 = f1_score(y_test, y_pred)\n",
        "conf_matrix = confusion_matrix(y_test, y_pred)\n",
        "class_report = classification_report(y_test, y_pred)\n",
        "\n",
        "print(f\"Accuracy: {accuracy:.2f}\")\n",
        "print(f\"AUC: {auc:.2f}\")\n",
        "print(f\"F1-score: {f1:.2f}\")\n",
        "print(f\"Confusion Matrix:\\n{conf_matrix}\")\n",
        "print(f\"Classification Report:\\n{class_report}\")"
      ],
      "metadata": {
        "id": "ombbY_G0htXH",
        "colab": {
          "base_uri": "https://localhost:8080/"
        },
        "outputId": "c2cd188e-0785-4fbb-d091-2aaf25356a7a"
      },
      "execution_count": 12,
      "outputs": [
        {
          "output_type": "stream",
          "name": "stdout",
          "text": [
            "Accuracy: 1.00\n",
            "AUC: 0.99\n",
            "F1-score: 0.99\n",
            "Confusion Matrix:\n",
            "[[2898    0]\n",
            " [   2  100]]\n",
            "Classification Report:\n",
            "              precision    recall  f1-score   support\n",
            "\n",
            "           0       1.00      1.00      1.00      2898\n",
            "           1       1.00      0.98      0.99       102\n",
            "\n",
            "    accuracy                           1.00      3000\n",
            "   macro avg       1.00      0.99      0.99      3000\n",
            "weighted avg       1.00      1.00      1.00      3000\n",
            "\n"
          ]
        }
      ]
    },
    {
      "cell_type": "code",
      "source": [
        "# Model interpretation using SHAP\n",
        "explainer = shap.TreeExplainer(best_model.named_steps['classifier'])\n",
        "# Transform the test data using the fitted pipeline\n",
        "X_test_transformed = best_model.named_steps['preprocessor'].transform(X_test)\n",
        "shap_values = explainer.shap_values(X_test_transformed)\n",
        "\n",
        "print(\"Shape of shap_values:\", shap_values.shape)\n",
        "\n",
        "plt.figure(figsize=(10, 6))\n",
        "shap.summary_plot(shap_values, X_test_transformed)\n",
        "plt.title(\"SHAP Feature Importance\")\n",
        "plt.tight_layout()\n",
        "plt.show()"
      ],
      "metadata": {
        "id": "XQGS-B4phv4n",
        "colab": {
          "base_uri": "https://localhost:8080/",
          "height": 1000
        },
        "outputId": "497e19d2-e583-40d7-db38-e12f99c3040b"
      },
      "execution_count": 13,
      "outputs": [
        {
          "output_type": "stream",
          "name": "stdout",
          "text": [
            "Shape of shap_values: (3000, 10, 2)\n"
          ]
        },
        {
          "output_type": "display_data",
          "data": {
            "text/plain": [
              "<Figure size 1000x600 with 0 Axes>"
            ]
          },
          "metadata": {}
        },
        {
          "output_type": "display_data",
          "data": {
            "text/plain": [
              "<Figure size 1150x660 with 2 Axes>"
            ],
            "image/png": "[encoded data removed]"
          },
          "metadata": {}
        },
        {
          "output_type": "display_data",
          "data": {
            "text/plain": [
              "<Figure size 640x480 with 1 Axes>"
            ],
            "image/png": "[encoded data removed]"
          },
          "metadata": {}
        }
      ]
    },
    {
      "cell_type": "code",
      "source": [
        "# Precision-Recall curve\n",
        "precision, recall, _ = precision_recall_curve(y_test, y_pred_proba)\n",
        "plt.figure(figsize=(8, 6))\n",
        "plt.plot(recall, precision, marker='.')\n",
        "plt.xlabel('Recall')\n",
        "plt.ylabel('Precision')\n",
        "plt.title('Precision-Recall Curve')\n",
        "plt.show()"
      ],
      "metadata": {
        "colab": {
          "base_uri": "https://localhost:8080/",
          "height": 564
        },
        "id": "4aHQrCCxhzC6",
        "outputId": "83eeb284-d381-45b5-efd4-3e575bf4f8a9"
      },
      "execution_count": 14,
      "outputs": [
        {
          "output_type": "display_data",
          "data": {
            "text/plain": [
              "<Figure size 800x600 with 1 Axes>"
            ],
            "image/png": "[encoded data removed]"
          },
          "metadata": {}
        }
      ]
    },
    {
      "cell_type": "code",
      "source": [
        "# Error analysis\n",
        "def analyze_errors(X, y_true, y_pred, y_pred_proba):\n",
        "    errors = X[y_true != y_pred].copy()\n",
        "    errors['true_label'] = y_true[y_true != y_pred]\n",
        "    errors['predicted_label'] = y_pred[y_true != y_pred]\n",
        "    errors['prediction_probability'] = y_pred_proba[y_true != y_pred]\n",
        "    return errors\n",
        "\n",
        "error_df = analyze_errors(X_test, y_test, y_pred, y_pred_proba)\n",
        "print(\"Sample of misclassified instances:\")\n",
        "print(error_df.head())"
      ],
      "metadata": {
        "id": "INLzYDKYh39n",
        "colab": {
          "base_uri": "https://localhost:8080/"
        },
        "outputId": "a471cae7-5639-460a-db3b-cd630e89002c"
      },
      "execution_count": 15,
      "outputs": [
        {
          "output_type": "stream",
          "name": "stdout",
          "text": [
            "Sample of misclassified instances:\n",
            "      Type  Air temperature [K]  Process temperature [K]  \\\n",
            "9015     1                297.2                    308.1   \n",
            "8506     1                298.4                    309.6   \n",
            "\n",
            "      Rotational speed [rpm]  Torque [Nm]  Tool wear [min]  TWF  HDF  PWF  \\\n",
            "9015                    1431         49.7              210    0    0    0   \n",
            "8506                    1710         27.3              163    0    0    0   \n",
            "\n",
            "      OSF  RNF  true_label  predicted_label  prediction_probability  \n",
            "9015    0    0           1                0                0.014952  \n",
            "8506    0    0           1                0                0.013615  \n"
          ]
        }
      ]
    },
    {
      "cell_type": "code",
      "source": [
        "def advanced_anomaly_detection(X_train, X_test):\n",
        "    ee = EllipticEnvelope(contamination=0.01, random_state=42)\n",
        "    ocsvm = OneClassSVM(kernel='rbf', nu=0.01) # Remove random_state\n",
        "    iso_forest = IsolationForest(contamination=0.01, random_state=42)\n",
        "\n",
        "    ee_anomalies = ee.fit(X_train).predict(X_test)\n",
        "    ocsvm_anomalies = ocsvm.fit(X_train).predict(X_test)\n",
        "    if_anomalies = iso_forest.fit(X_train).predict(X_test)\n",
        "\n",
        "    combined_anomalies = ((ee_anomalies + ocsvm_anomalies + if_anomalies) < 0).astype(int)\n",
        "    return combined_anomalies"
      ],
      "metadata": {
        "id": "5n3iUrFeiolT"
      },
      "execution_count": 16,
      "outputs": []
    },
    {
      "cell_type": "code",
      "source": [
        "# Perform anomaly detection\n",
        "anomalies = advanced_anomaly_detection(X_train, X_test)\n",
        "print(f\"Number of anomalies detected: {sum(anomalies)}\")"
      ],
      "metadata": {
        "colab": {
          "base_uri": "https://localhost:8080/"
        },
        "collapsed": true,
        "id": "lYd5NB0VjJTY",
        "outputId": "d0911365-c3f5-4a14-e9b0-7fe046de4a3f"
      },
      "execution_count": 17,
      "outputs": [
        {
          "output_type": "stream",
          "name": "stdout",
          "text": [
            "Number of anomalies detected: 14\n"
          ]
        }
      ]
    },
    {
      "cell_type": "code",
      "source": [
        "# Real-time monitoring\n",
        "def simulate_sensor_data(feature_names):\n",
        "    return pd.DataFrame([np.random.rand(len(feature_names))], columns=feature_names)"
      ],
      "metadata": {
        "id": "7LymNfcnmv03"
      },
      "execution_count": 18,
      "outputs": []
    },
    {
      "cell_type": "code",
      "source": [
        "def realtime_monitoring(model, preprocessor, threshold, X, simulation_time=60):\n",
        "    start_time = time.time()\n",
        "    feature_names = X.columns\n",
        "    while time.time() - start_time < simulation_time:\n",
        "        new_data = simulate_sensor_data(feature_names)\n",
        "        processed_data = preprocessor.transform(new_data)\n",
        "        failure_prob = model.named_steps['classifier'].predict_proba(processed_data)[0, 1]\n",
        "        if failure_prob >= threshold:\n",
        "            print(f\"Alert: High failure probability detected! {failure_prob:.2f}\")\n",
        "        time.sleep(1)"
      ],
      "metadata": {
        "id": "QGawmJ6HisQQ"
      },
      "execution_count": 19,
      "outputs": []
    },
    {
      "cell_type": "code",
      "source": [
        "# Usage\n",
        "print(\"Starting real-time monitoring simulation...\")\n",
        "realtime_monitoring(best_model, best_model.named_steps['preprocessor'], 0.7, X, simulation_time=10)\n",
        "print(\"Real-time monitoring simulation completed.\")"
      ],
      "metadata": {
        "colab": {
          "base_uri": "https://localhost:8080/"
        },
        "collapsed": true,
        "id": "aR6Na3WJjeOW",
        "outputId": "7434bcd8-3aed-4c81-8c9f-77d401dc38e0"
      },
      "execution_count": 20,
      "outputs": [
        {
          "output_type": "stream",
          "name": "stdout",
          "text": [
            "Starting real-time monitoring simulation...\n",
            "Alert: High failure probability detected! 0.76\n",
            "Alert: High failure probability detected! 0.93\n",
            "Alert: High failure probability detected! 0.97\n",
            "Alert: High failure probability detected! 0.96\n",
            "Alert: High failure probability detected! 0.90\n",
            "Alert: High failure probability detected! 0.83\n",
            "Alert: High failure probability detected! 0.89\n",
            "Alert: High failure probability detected! 0.97\n",
            "Alert: High failure probability detected! 0.88\n",
            "Alert: High failure probability detected! 0.77\n",
            "Real-time monitoring simulation completed.\n"
          ]
        }
      ]
    },
    {
      "cell_type": "code",
      "source": [
        "# Save the model\n",
        "import joblib\n",
        "joblib.dump(best_model, 'machine_failure_prediction_model.joblib')\n",
        "print(\"Model saved as 'machine_failure_prediction_model.joblib'\")\n",
        "print(\"Script execution completed.\")"
      ],
      "metadata": {
        "colab": {
          "base_uri": "https://localhost:8080/"
        },
        "id": "g61OJou2nkuQ",
        "outputId": "06f1d363-ce3e-4baf-fb97-0a33961f2699"
      },
      "execution_count": 21,
      "outputs": [
        {
          "output_type": "stream",
          "name": "stdout",
          "text": [
            "Model saved as 'machine_failure_prediction_model.joblib'\n",
            "Script execution completed.\n"
          ]
        }
      ]
    }
  ]
}